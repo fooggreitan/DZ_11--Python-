{
 "cells": [
  {
   "attachments": {},
   "cell_type": "markdown",
   "metadata": {},
   "source": [
    "f(x) = -12x^4 - 18x^3+5x^2 + 10x - 30\n",
    "\n",
    "1 Определить корни\n",
    "\n",
    "2 Найти интервалы, на которых функция возрастает\n",
    "\n",
    "3 Найти интервалы, на которых функция убывает\n",
    "\n",
    "4 Построить график\n",
    "\n",
    "5 Вычислить вершину\n",
    "\n",
    "6 Определить промежутки, на котором f > 0\n",
    "\n",
    "7 Определить промежутки, на котором f < 0"
   ]
  },
  {
   "cell_type": "code",
   "execution_count": 5,
   "metadata": {},
   "outputs": [],
   "source": [
    "import math\n",
    "from sympy import *\n",
    "from sympy.plotting import plot"
   ]
  },
  {
   "cell_type": "code",
   "execution_count": 10,
   "metadata": {},
   "outputs": [
    {
     "data": {
      "text/latex": [
       "$\\displaystyle - 12 x^{4} - 18 x^{3} + 5 x^{2} + 10 x - 30$"
      ],
      "text/plain": [
       "-12*x**4 - 18*x**3 + 5*x**2 + 10*x - 30"
      ]
     },
     "execution_count": 10,
     "metadata": {},
     "output_type": "execute_result"
    }
   ],
   "source": [
    "x = Symbol('x')\n",
    "fx = -12*x**4 - 18*x**3 + 5*x**2 + 10*x - 30\n",
    "fx"
   ]
  },
  {
   "cell_type": "code",
   "execution_count": 11,
   "metadata": {},
   "outputs": [
    {
     "data": {
      "text/latex": [
       "$\\displaystyle \\left(-\\infty < x \\wedge x < \\operatorname{CRootOf} {\\left(24 x^{3} + 27 x^{2} - 5 x - 5, 0\\right)}\\right) \\vee \\left(x < \\operatorname{CRootOf} {\\left(24 x^{3} + 27 x^{2} - 5 x - 5, 2\\right)} \\wedge \\operatorname{CRootOf} {\\left(24 x^{3} + 27 x^{2} - 5 x - 5, 1\\right)} < x\\right)$"
      ],
      "text/plain": [
       "((-oo < x) & (x < CRootOf(24*x**3 + 27*x**2 - 5*x - 5, 0))) | ((x < CRootOf(24*x**3 + 27*x**2 - 5*x - 5, 2)) & (CRootOf(24*x**3 + 27*x**2 - 5*x - 5, 1) < x))"
      ]
     },
     "execution_count": 11,
     "metadata": {},
     "output_type": "execute_result"
    }
   ],
   "source": [
    "solve(diff(fx) > 0)"
   ]
  },
  {
   "cell_type": "code",
   "execution_count": 12,
   "metadata": {},
   "outputs": [
    {
     "data": {
      "text/latex": [
       "$\\displaystyle \\left(x < \\infty \\wedge \\operatorname{CRootOf} {\\left(24 x^{3} + 27 x^{2} - 5 x - 5, 2\\right)} < x\\right) \\vee \\left(x < \\operatorname{CRootOf} {\\left(24 x^{3} + 27 x^{2} - 5 x - 5, 1\\right)} \\wedge \\operatorname{CRootOf} {\\left(24 x^{3} + 27 x^{2} - 5 x - 5, 0\\right)} < x\\right)$"
      ],
      "text/plain": [
       "((x < oo) & (CRootOf(24*x**3 + 27*x**2 - 5*x - 5, 2) < x)) | ((x < CRootOf(24*x**3 + 27*x**2 - 5*x - 5, 1)) & (CRootOf(24*x**3 + 27*x**2 - 5*x - 5, 0) < x))"
      ]
     },
     "execution_count": 12,
     "metadata": {},
     "output_type": "execute_result"
    }
   ],
   "source": [
    "solve(diff(fx) < 0)"
   ]
  },
  {
   "cell_type": "code",
   "execution_count": 27,
   "metadata": {},
   "outputs": [
    {
     "data": {
      "image/png": "[encoded data removed]",
      "text/plain": [
       "<Figure size 640x480 with 1 Axes>"
      ]
     },
     "metadata": {},
     "output_type": "display_data"
    }
   ],
   "source": [
    "p = plot(fx, (x, -100, 100))"
   ]
  },
  {
   "cell_type": "code",
   "execution_count": 23,
   "metadata": {},
   "outputs": [
    {
     "name": "stdout",
     "output_type": "stream",
     "text": [
      "-3/8 + (-1/2 - sqrt(3)*I/2)*(19/1536 + sqrt(108895)*I/3456)**(1/3) + 121/(576*(-1/2 - sqrt(3)*I/2)*(19/1536 + sqrt(108895)*I/3456)**(1/3))\n"
     ]
    }
   ],
   "source": [
    "apex = solve(diff(fx))[0]\n",
    "print(apex)"
   ]
  },
  {
   "cell_type": "code",
   "execution_count": 24,
   "metadata": {},
   "outputs": [
    {
     "data": {
      "text/latex": [
       "$\\displaystyle \\left(-\\infty < x \\wedge x < \\operatorname{CRootOf} {\\left(24 x^{3} + 27 x^{2} - 5 x - 5, 0\\right)}\\right) \\vee \\left(x < \\operatorname{CRootOf} {\\left(24 x^{3} + 27 x^{2} - 5 x - 5, 2\\right)} \\wedge \\operatorname{CRootOf} {\\left(24 x^{3} + 27 x^{2} - 5 x - 5, 1\\right)} < x\\right)$"
      ],
      "text/plain": [
       "((-oo < x) & (x < CRootOf(24*x**3 + 27*x**2 - 5*x - 5, 0))) | ((x < CRootOf(24*x**3 + 27*x**2 - 5*x - 5, 2)) & (CRootOf(24*x**3 + 27*x**2 - 5*x - 5, 1) < x))"
      ]
     },
     "execution_count": 24,
     "metadata": {},
     "output_type": "execute_result"
    }
   ],
   "source": [
    "solve(diff(fx) > 0)"
   ]
  },
  {
   "cell_type": "code",
   "execution_count": 25,
   "metadata": {},
   "outputs": [
    {
     "data": {
      "text/latex": [
       "$\\displaystyle \\left(-\\infty < x \\wedge x < \\operatorname{CRootOf} {\\left(24 x^{3} + 27 x^{2} - 5 x - 5, 0\\right)}\\right) \\vee \\left(x < \\operatorname{CRootOf} {\\left(24 x^{3} + 27 x^{2} - 5 x - 5, 2\\right)} \\wedge \\operatorname{CRootOf} {\\left(24 x^{3} + 27 x^{2} - 5 x - 5, 1\\right)} < x\\right)$"
      ],
      "text/plain": [
       "((-oo < x) & (x < CRootOf(24*x**3 + 27*x**2 - 5*x - 5, 0))) | ((x < CRootOf(24*x**3 + 27*x**2 - 5*x - 5, 2)) & (CRootOf(24*x**3 + 27*x**2 - 5*x - 5, 1) < x))"
      ]
     },
     "execution_count": 25,
     "metadata": {},
     "output_type": "execute_result"
    }
   ],
   "source": [
    "solve(diff(fx) > 0)"
   ]
  },
  {
   "cell_type": "code",
   "execution_count": 28,
   "metadata": {},
   "outputs": [
    {
     "data": {
      "text/latex": [
       "$\\displaystyle \\text{False}$"
      ],
      "text/plain": [
       "False"
      ]
     },
     "execution_count": 28,
     "metadata": {},
     "output_type": "execute_result"
    }
   ],
   "source": [
    "solve(fx > 0) "
   ]
  },
  {
   "cell_type": "code",
   "execution_count": 29,
   "metadata": {},
   "outputs": [
    {
     "data": {
      "text/latex": [
       "$\\displaystyle -\\infty < x \\wedge x < \\infty$"
      ],
      "text/plain": [
       "(-oo < x) & (x < oo)"
      ]
     },
     "execution_count": 29,
     "metadata": {},
     "output_type": "execute_result"
    }
   ],
   "source": [
    "solve(fx < 0) "
   ]
  }
 ],
 "metadata": {
  "kernelspec": {
   "display_name": "Python 3",
   "language": "python",
   "name": "python3"
  },
  "language_info": {
   "codemirror_mode": {
    "name": "ipython",
    "version": 3
   },
   "file_extension": ".py",
   "mimetype": "text/x-python",
   "name": "python",
   "nbconvert_exporter": "python",
   "pygments_lexer": "ipython3",
   "version": "3.10.1"
  },
  "vscode": {
   "interpreter": {
    "hash": "57e12305f51244998a45c647d0629e63c6273a3efef1bd8ba9a0ab38eacecf59"
   }
  }
 },
 "nbformat": 4,
 "nbformat_minor": 4
}
